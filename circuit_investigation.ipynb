{
 "cells": [
  {
   "cell_type": "code",
   "execution_count": 1,
   "id": "7326b55b",
   "metadata": {},
   "outputs": [
    {
     "name": "stderr",
     "output_type": "stream",
     "text": [
      "/root/mech_interp_research/venv/lib/python3.10/site-packages/tqdm/auto.py:21: TqdmWarning: IProgress not found. Please update jupyter and ipywidgets. See https://ipywidgets.readthedocs.io/en/stable/user_install.html\n",
      "  from .autonotebook import tqdm as notebook_tqdm\n"
     ]
    }
   ],
   "source": [
    "from transformer_lens import HookedTransformer\n",
    "import transformer_lens\n",
    "from transformers import AutoModelForCausalLM, AutoTokenizer\n",
    "import torch\n",
    "import transformer_lens.utils as utils\n",
    "import hashlib\n",
    "import yaml \n",
    "import hashlib\n",
    "import pickle\n",
    "import numpy as np\n",
    "import matplotlib.pyplot as plt "
   ]
  },
  {
   "cell_type": "code",
   "execution_count": 2,
   "id": "203a081e",
   "metadata": {},
   "outputs": [
    {
     "data": {
      "text/plain": [
       "<torch.autograd.grad_mode.set_grad_enabled at 0x7769f427ae00>"
      ]
     },
     "execution_count": 2,
     "metadata": {},
     "output_type": "execute_result"
    }
   ],
   "source": [
    "torch.set_grad_enabled(False)"
   ]
  },
  {
   "cell_type": "code",
   "execution_count": 3,
   "id": "0869a33b",
   "metadata": {},
   "outputs": [
    {
     "name": "stderr",
     "output_type": "stream",
     "text": [
      "Loading checkpoint shards: 100%|██████████| 2/2 [00:00<00:00,  4.65it/s]\n"
     ]
    },
    {
     "name": "stdout",
     "output_type": "stream",
     "text": [
      "Loaded pretrained model meta-llama/Llama-3.1-8B into HookedTransformer\n"
     ]
    }
   ],
   "source": [
    "device = utils.get_device()\n",
    "\n",
    "reference_model_path = 'meta-llama/Llama-3.1-8B'\n",
    "baseline_model_path = \"deepseek-ai/DeepSeek-R1-Distill-Llama-8B\"\n",
    "\n",
    "baseline_model_hf = AutoModelForCausalLM.from_pretrained(baseline_model_path, torch_dtype=torch.bfloat16)\n",
    "baseline_model_tokenizer = AutoTokenizer.from_pretrained(baseline_model_path)\n",
    "\n",
    "model = HookedTransformer.from_pretrained_no_processing(\n",
    "    reference_model_path,\n",
    "    hf_model=baseline_model_hf,\n",
    "    tokenizer=baseline_model_tokenizer,\n",
    "    device=device,\n",
    "    move_to_device=True,\n",
    ")\n"
   ]
  },
  {
   "cell_type": "code",
   "execution_count": 4,
   "id": "9d9503ab",
   "metadata": {},
   "outputs": [],
   "source": [
    "weight_vectors = np.load('layer_analyses/combined_delta_vectors.npy')"
   ]
  },
  {
   "cell_type": "code",
   "execution_count": 5,
   "id": "f1ddb5d9",
   "metadata": {},
   "outputs": [],
   "source": [
    "import matplotlib.pyplot as plt\n",
    "\n",
    "def plot_head_attention_maps(model, layer_idx: int, head_idx: int, prompt1: str, prompt2: str):\n",
    "    \"\"\"\n",
    "    Runs both prompts through the model with cache, extracts the attention map\n",
    "    for the given (layer_idx, head_idx), and plots them side‑by‑side with token labels.\n",
    "    \n",
    "    Args:\n",
    "        model:        A HookedTransformer from transformer_lens\n",
    "        layer_idx:    0‑indexed layer number\n",
    "        head_idx:     0‑indexed head number within that layer\n",
    "        prompt1:      First prompt string\n",
    "        prompt2:      Second prompt string\n",
    "    Returns:\n",
    "        attn1, attn2: torch.Tensor of shape (seq_len, seq_len) for each prompt\n",
    "    \"\"\"\n",
    "    model.eval()\n",
    "    def get_attn_and_labels(prompt):\n",
    "        tokens = model.to_tokens(prompt)                 # [1, seq_len]\n",
    "        token_ids = tokens[0].tolist()                   # list of ints\n",
    "        # get token strings one-by-one\n",
    "        labels = [model.to_string([tid]).strip() \n",
    "                  for tid in token_ids]\n",
    "        \n",
    "        _, cache = model.run_with_cache(tokens)\n",
    "        patterns = cache[\"pattern\", layer_idx]           # [1, heads, seq, seq]\n",
    "        attn = patterns[0, head_idx].detach().cpu()      # [seq, seq]\n",
    "        return attn, labels\n",
    "\n",
    "    attn1, labels1 = get_attn_and_labels(prompt1)\n",
    "    attn2, labels2 = get_attn_and_labels(prompt2)\n",
    "\n",
    "    fig, axes = plt.subplots(1, 2, figsize=(14, 5))\n",
    "    for ax, attn, labels, title in zip(\n",
    "        axes,\n",
    "        (attn1, attn2),\n",
    "        (labels1, labels2),\n",
    "        (\"Thinking prompt\", \"Answering prompt\")\n",
    "    ):\n",
    "        im = ax.imshow(attn, aspect='auto')\n",
    "        ax.set_title(f'Head ({layer_idx}, {head_idx}) – {title}')\n",
    "        ax.set_xticks(range(len(labels)))\n",
    "        ax.set_yticks(range(len(labels)))\n",
    "        ax.set_xticklabels(labels, rotation=90, fontsize=8)\n",
    "        ax.set_yticklabels(labels, fontsize=8)\n",
    "        ax.set_xlabel(\"Key position\")\n",
    "        ax.set_ylabel(\"Query position\")\n",
    "        fig.colorbar(im, ax=ax, fraction=0.046, pad=0.04)\n",
    "\n",
    "    plt.tight_layout()\n",
    "    plt.show()\n",
    "\n",
    "    return attn1, attn2\n"
   ]
  },
  {
   "cell_type": "markdown",
   "id": "83494a85",
   "metadata": {},
   "source": [
    "now we'll make a "
   ]
  },
  {
   "cell_type": "code",
   "execution_count": 6,
   "id": "165101ce",
   "metadata": {},
   "outputs": [],
   "source": [
    "def generate_think_and_immediate_answer_prompts(\n",
    "        model: HookedTransformer,\n",
    "        prompt: str,\n",
    "):\n",
    "    # wrap prompt in chat format\n",
    "    chat = [{\"role\": \"user\", \"content\": prompt}]\n",
    "\n",
    "    # 1) THINK prefix\n",
    "    think_prefix = model.tokenizer.apply_chat_template(\n",
    "        chat, add_generation_prompt=True, tokenize=False\n",
    "    )\n",
    "\n",
    "    # 2) ANSWER prefix (greedy to </think>)\n",
    "    answer_prefix = think_prefix + \"\\n</think>\\n\\n\"\n",
    "\n",
    "    return think_prefix, answer_prefix"
   ]
  },
  {
   "cell_type": "code",
   "execution_count": 7,
   "id": "1a430066",
   "metadata": {},
   "outputs": [
    {
     "data": {
      "text/plain": [
       "('<｜begin▁of▁sentence｜><｜User｜>What is the fifth prime?<｜Assistant｜><think>\\n',\n",
       " '<｜begin▁of▁sentence｜><｜User｜>What is the fifth prime?<｜Assistant｜><think>\\n\\n</think>\\n\\n')"
      ]
     },
     "execution_count": 7,
     "metadata": {},
     "output_type": "execute_result"
    }
   ],
   "source": [
    "think_prefix, answer_prefix = generate_think_and_immediate_answer_prompts(\n",
    "    model,\n",
    "    \"What is the fifth prime?\"\n",
    ")\n",
    "think_prefix, answer_prefix"
   ]
  },
  {
   "cell_type": "code",
   "execution_count": 8,
   "id": "96fbcc02",
   "metadata": {},
   "outputs": [
    {
     "name": "stderr",
     "output_type": "stream",
     "text": [
      "/tmp/ipykernel_549/4242568328.py:50: UserWarning: Glyph 65372 (\\N{FULLWIDTH VERTICAL LINE}) missing from font(s) DejaVu Sans.\n",
      "  plt.tight_layout()\n",
      "/root/mech_interp_research/venv/lib/python3.10/site-packages/IPython/core/pylabtools.py:170: UserWarning: Glyph 65372 (\\N{FULLWIDTH VERTICAL LINE}) missing from font(s) DejaVu Sans.\n",
      "  fig.canvas.print_figure(bytes_io, **kw)\n"
     ]
    },
    {
     "data": {
      "image/png": "[encoded data removed]",
      "text/plain": [
       "<Figure size 1400x500 with 4 Axes>"
      ]
     },
     "metadata": {},
     "output_type": "display_data"
    }
   ],
   "source": [
    "layer_idx=2 \n",
    "head_idx = 17\n",
    "\n",
    "attn_think, attn_ans = plot_head_attention_maps(model, layer_idx, head_idx, prompt1=think_prefix, prompt2=answer_prefix)\n"
   ]
  },
  {
   "cell_type": "markdown",
   "id": "27f3bb5b",
   "metadata": {},
   "source": [
    "is it responding to a particular head?\n",
    "\n",
    "i want to know, what does it respond to most "
   ]
  },
  {
   "cell_type": "code",
   "execution_count": 9,
   "id": "a95a538e",
   "metadata": {},
   "outputs": [],
   "source": [
    "layer_idx=2\n",
    "head_idx = 17   \n",
    "K = model.blocks[layer_idx].attn.W_K[head_idx]\n",
    "Q = model.blocks[layer_idx].attn.W_Q[head_idx]\n",
    "\n",
    "K.shape, Q.shape\n",
    "\n",
    "QK_prod = torch.einsum('i j, k j -> i k', Q, K)"
   ]
  },
  {
   "cell_type": "code",
   "execution_count": 19,
   "id": "209a5174",
   "metadata": {},
   "outputs": [],
   "source": [
    "import torch\n",
    "\n",
    "def get_top_k_qk_eigen(Q: torch.Tensor, K: torch.Tensor, k: int):\n",
    "  \"\"\"\n",
    "  Calculates the QK product and finds its top k eigenvalues and eigenvectors.\n",
    "\n",
    "  Args:\n",
    "    Q: The Query tensor (shape: [dim, head_dim], e.g., [4096, 128]).\n",
    "    K: The Key tensor (shape: [dim, head_dim], e.g., [4096, 128]).\n",
    "    k: The number of top eigenvalues/eigenvectors to return.\n",
    "\n",
    "  Returns:\n",
    "    A tuple containing:\n",
    "      - top_k_eigenvalues (torch.Tensor): The top k eigenvalues, sorted by\n",
    "          magnitude in descending order. May be complex. Shape: [k].\n",
    "      - top_k_eigenvectors (torch.Tensor): The corresponding top k eigenvectors\n",
    "          as columns. May be complex. Shape: [dim, k].\n",
    "\n",
    "  Raises:\n",
    "    ValueError: If Q and K do not have compatible shapes for the einsum,\n",
    "                or if k is not a positive integer.\n",
    "    RuntimeError: If the eigenvalue decomposition fails.\n",
    "  \"\"\"\n",
    "  if not isinstance(Q, torch.Tensor) or not isinstance(K, torch.Tensor):\n",
    "    raise TypeError(\"Q and K must be PyTorch tensors.\")\n",
    "  if Q.shape[1] != K.shape[1]:\n",
    "    raise ValueError(f\"Inner dimensions of Q ({Q.shape[1]}) and K ({K.shape[1]}) must match.\")\n",
    "  if Q.shape[0] != K.shape[0]:\n",
    "      # The einsum 'i j, k j -> i k' results in a matrix of shape [Q.shape[0], K.shape[0]]\n",
    "      # Eigen decomposition requires a square matrix.\n",
    "      raise ValueError(f\"Outer dimensions of Q ({Q.shape[0]}) and K ({K.shape[0]}) must match for a square product matrix.\")\n",
    "  if not isinstance(k, int) or k <= 0:\n",
    "      raise ValueError(\"k must be a positive integer.\")\n",
    "\n",
    "  dim = Q.shape[0]\n",
    "  if k > dim:\n",
    "      print(f\"Warning: k ({k}) is greater than the matrix dimension ({dim}). Returning all {dim} eigenvalues/eigenvectors.\")\n",
    "      k = dim # Return all if k is too large\n",
    "\n",
    "  print(f\"Calculating QK product for Q: {Q.shape}, K: {K.shape}...\")\n",
    "  # 'i j, k j -> i k' is equivalent to Q @ K.T\n",
    "  # Q (dim, head_dim), K (dim, head_dim) -> QK_prod (dim, dim)\n",
    "  # Example: Q(4096, 128), K(4096, 128) -> QK_prod(4096, 4096)\n",
    "  QK_prod = torch.einsum('i j, k j -> i k', Q, K)\n",
    "  print(f\"QK_prod shape: {QK_prod.shape}\")\n",
    "\n",
    "  print(f\"Calculating eigenvalues and eigenvectors for the {QK_prod.shape} matrix...\")\n",
    "  # Use torch.linalg.eig for non-Hermitian matrices (QK_prod is generally not symmetric)\n",
    "  # This returns potentially complex eigenvalues and eigenvectors\n",
    "  try:\n",
    "    eigenvalues, eigenvectors = torch.linalg.eig(QK_prod)\n",
    "  except RuntimeError as e:\n",
    "      print(f\"Error during eigenvalue decomposition: {e}\")\n",
    "      raise e\n",
    "\n",
    "  print(\"Sorting eigenvalues by magnitude...\")\n",
    "  # Sort eigenvalues by magnitude (absolute value) in descending order\n",
    "  # Eigenvalues can be complex, so we use abs() for magnitude\n",
    "  magnitudes = torch.abs(eigenvalues)\n",
    "  sorted_indices = torch.argsort(magnitudes, descending=True)\n",
    "\n",
    "  # Select the top k indices\n",
    "  top_k_indices = sorted_indices[:k]\n",
    "\n",
    "  # Get the top k eigenvalues and eigenvectors using the indices\n",
    "  top_k_eigenvalues = eigenvalues[top_k_indices]\n",
    "  # Eigenvectors are returned as columns, so index the columns\n",
    "  top_k_eigenvectors = eigenvectors[:, top_k_indices]\n",
    "\n",
    "  print(f\"Returning top {k} eigenvalues and eigenvectors.\")\n",
    "  return top_k_eigenvalues, top_k_eigenvectors\n"
   ]
  },
  {
   "cell_type": "code",
   "execution_count": null,
   "id": "28c6e89d",
   "metadata": {},
   "outputs": [
    {
     "name": "stdout",
     "output_type": "stream",
     "text": [
      "Calculating QK product for Q: torch.Size([4096, 128]), K: torch.Size([4096, 128])...\n",
      "QK_prod shape: torch.Size([4096, 4096])\n",
      "Calculating eigenvalues and eigenvectors for the torch.Size([4096, 4096]) matrix...\n"
     ]
    }
   ],
   "source": [
    "vals, vecs = get_top_k_qk_eigen(Q, K, k=1)"
   ]
  },
  {
   "cell_type": "code",
   "execution_count": 17,
   "id": "395cc9ca",
   "metadata": {},
   "outputs": [
    {
     "name": "stderr",
     "output_type": "stream",
     "text": [
      "/tmp/ipykernel_549/3876481693.py:9: DeprecationWarning: __array_wrap__ must accept context and return_scalar arguments (positionally) in the future. (Deprecated NumPy 2.0)\n",
      "  return M @ (N @ x)\n"
     ]
    },
    {
     "ename": "KeyboardInterrupt",
     "evalue": "",
     "output_type": "error",
     "traceback": [
      "\u001b[0;31m---------------------------------------------------------------------------\u001b[0m",
      "\u001b[0;31mKeyboardInterrupt\u001b[0m                         Traceback (most recent call last)",
      "Cell \u001b[0;32mIn[17], line 1\u001b[0m\n\u001b[0;32m----> 1\u001b[0m vals, vecs \u001b[38;5;241m=\u001b[39m \u001b[43mtopk_eig_large\u001b[49m\u001b[43m(\u001b[49m\u001b[43mM\u001b[49m\u001b[38;5;241;43m=\u001b[39;49m\u001b[43mK\u001b[49m\u001b[38;5;241;43m.\u001b[39;49m\u001b[43mcpu\u001b[49m\u001b[43m(\u001b[49m\u001b[43m)\u001b[49m\u001b[43m,\u001b[49m\u001b[43m \u001b[49m\u001b[43mN\u001b[49m\u001b[38;5;241;43m=\u001b[39;49m\u001b[43mQ\u001b[49m\u001b[38;5;241;43m.\u001b[39;49m\u001b[43mT\u001b[49m\u001b[38;5;241;43m.\u001b[39;49m\u001b[43mcpu\u001b[49m\u001b[43m(\u001b[49m\u001b[43m)\u001b[49m\u001b[43m,\u001b[49m\u001b[43m \u001b[49m\u001b[43mk\u001b[49m\u001b[38;5;241;43m=\u001b[39;49m\u001b[38;5;241;43m128\u001b[39;49m\u001b[43m)\u001b[49m\n",
      "Cell \u001b[0;32mIn[10], line 12\u001b[0m, in \u001b[0;36mtopk_eig_large\u001b[0;34m(M, N, k)\u001b[0m\n\u001b[1;32m      9\u001b[0m     \u001b[38;5;28;01mreturn\u001b[39;00m M \u001b[38;5;241m@\u001b[39m (N \u001b[38;5;241m@\u001b[39m x)\n\u001b[1;32m     11\u001b[0m A_linop \u001b[38;5;241m=\u001b[39m LinearOperator((m, m), matvec\u001b[38;5;241m=\u001b[39mmatvec)\n\u001b[0;32m---> 12\u001b[0m vals, vecs \u001b[38;5;241m=\u001b[39m \u001b[43meigsh\u001b[49m\u001b[43m(\u001b[49m\u001b[43mA_linop\u001b[49m\u001b[43m,\u001b[49m\u001b[43m \u001b[49m\u001b[43mk\u001b[49m\u001b[38;5;241;43m=\u001b[39;49m\u001b[43mk\u001b[49m\u001b[43m,\u001b[49m\u001b[43m \u001b[49m\u001b[43mwhich\u001b[49m\u001b[38;5;241;43m=\u001b[39;49m\u001b[38;5;124;43m'\u001b[39;49m\u001b[38;5;124;43mLM\u001b[39;49m\u001b[38;5;124;43m'\u001b[39;49m\u001b[43m)\u001b[49m\n\u001b[1;32m     13\u001b[0m \u001b[38;5;28;01mreturn\u001b[39;00m vals, vecs\n",
      "File \u001b[0;32m~/mech_interp_research/venv/lib/python3.10/site-packages/scipy/sparse/linalg/_eigen/arpack/arpack.py:1696\u001b[0m, in \u001b[0;36meigsh\u001b[0;34m(A, k, M, sigma, which, v0, ncv, maxiter, tol, return_eigenvectors, Minv, OPinv, mode)\u001b[0m\n\u001b[1;32m   1694\u001b[0m \u001b[38;5;28;01mwith\u001b[39;00m _ARPACK_LOCK:\n\u001b[1;32m   1695\u001b[0m     \u001b[38;5;28;01mwhile\u001b[39;00m \u001b[38;5;129;01mnot\u001b[39;00m params\u001b[38;5;241m.\u001b[39mconverged:\n\u001b[0;32m-> 1696\u001b[0m         \u001b[43mparams\u001b[49m\u001b[38;5;241;43m.\u001b[39;49m\u001b[43miterate\u001b[49m\u001b[43m(\u001b[49m\u001b[43m)\u001b[49m\n\u001b[1;32m   1698\u001b[0m     \u001b[38;5;28;01mreturn\u001b[39;00m params\u001b[38;5;241m.\u001b[39mextract(return_eigenvectors)\n",
      "File \u001b[0;32m~/mech_interp_research/venv/lib/python3.10/site-packages/scipy/sparse/linalg/_eigen/arpack/arpack.py:542\u001b[0m, in \u001b[0;36m_SymmetricArpackParams.iterate\u001b[0;34m(self)\u001b[0m\n\u001b[1;32m    540\u001b[0m \u001b[38;5;28;01mdef\u001b[39;00m\u001b[38;5;250m \u001b[39m\u001b[38;5;21miterate\u001b[39m(\u001b[38;5;28mself\u001b[39m):\n\u001b[1;32m    541\u001b[0m     \u001b[38;5;28mself\u001b[39m\u001b[38;5;241m.\u001b[39mido, \u001b[38;5;28mself\u001b[39m\u001b[38;5;241m.\u001b[39mtol, \u001b[38;5;28mself\u001b[39m\u001b[38;5;241m.\u001b[39mresid, \u001b[38;5;28mself\u001b[39m\u001b[38;5;241m.\u001b[39mv, \u001b[38;5;28mself\u001b[39m\u001b[38;5;241m.\u001b[39miparam, \u001b[38;5;28mself\u001b[39m\u001b[38;5;241m.\u001b[39mipntr, \u001b[38;5;28mself\u001b[39m\u001b[38;5;241m.\u001b[39minfo \u001b[38;5;241m=\u001b[39m \\\n\u001b[0;32m--> 542\u001b[0m         \u001b[38;5;28;43mself\u001b[39;49m\u001b[38;5;241;43m.\u001b[39;49m\u001b[43m_arpack_solver\u001b[49m\u001b[43m(\u001b[49m\u001b[38;5;28;43mself\u001b[39;49m\u001b[38;5;241;43m.\u001b[39;49m\u001b[43mido\u001b[49m\u001b[43m,\u001b[49m\u001b[43m \u001b[49m\u001b[38;5;28;43mself\u001b[39;49m\u001b[38;5;241;43m.\u001b[39;49m\u001b[43mbmat\u001b[49m\u001b[43m,\u001b[49m\u001b[43m \u001b[49m\u001b[38;5;28;43mself\u001b[39;49m\u001b[38;5;241;43m.\u001b[39;49m\u001b[43mwhich\u001b[49m\u001b[43m,\u001b[49m\u001b[43m \u001b[49m\u001b[38;5;28;43mself\u001b[39;49m\u001b[38;5;241;43m.\u001b[39;49m\u001b[43mk\u001b[49m\u001b[43m,\u001b[49m\n\u001b[1;32m    543\u001b[0m \u001b[43m                            \u001b[49m\u001b[38;5;28;43mself\u001b[39;49m\u001b[38;5;241;43m.\u001b[39;49m\u001b[43mtol\u001b[49m\u001b[43m,\u001b[49m\u001b[43m \u001b[49m\u001b[38;5;28;43mself\u001b[39;49m\u001b[38;5;241;43m.\u001b[39;49m\u001b[43mresid\u001b[49m\u001b[43m,\u001b[49m\u001b[43m \u001b[49m\u001b[38;5;28;43mself\u001b[39;49m\u001b[38;5;241;43m.\u001b[39;49m\u001b[43mv\u001b[49m\u001b[43m,\u001b[49m\u001b[43m \u001b[49m\u001b[38;5;28;43mself\u001b[39;49m\u001b[38;5;241;43m.\u001b[39;49m\u001b[43miparam\u001b[49m\u001b[43m,\u001b[49m\n\u001b[1;32m    544\u001b[0m \u001b[43m                            \u001b[49m\u001b[38;5;28;43mself\u001b[39;49m\u001b[38;5;241;43m.\u001b[39;49m\u001b[43mipntr\u001b[49m\u001b[43m,\u001b[49m\u001b[43m \u001b[49m\u001b[38;5;28;43mself\u001b[39;49m\u001b[38;5;241;43m.\u001b[39;49m\u001b[43mworkd\u001b[49m\u001b[43m,\u001b[49m\u001b[43m \u001b[49m\u001b[38;5;28;43mself\u001b[39;49m\u001b[38;5;241;43m.\u001b[39;49m\u001b[43mworkl\u001b[49m\u001b[43m,\u001b[49m\u001b[43m \u001b[49m\u001b[38;5;28;43mself\u001b[39;49m\u001b[38;5;241;43m.\u001b[39;49m\u001b[43minfo\u001b[49m\u001b[43m)\u001b[49m\n\u001b[1;32m    546\u001b[0m     xslice \u001b[38;5;241m=\u001b[39m \u001b[38;5;28mslice\u001b[39m(\u001b[38;5;28mself\u001b[39m\u001b[38;5;241m.\u001b[39mipntr[\u001b[38;5;241m0\u001b[39m] \u001b[38;5;241m-\u001b[39m \u001b[38;5;241m1\u001b[39m, \u001b[38;5;28mself\u001b[39m\u001b[38;5;241m.\u001b[39mipntr[\u001b[38;5;241m0\u001b[39m] \u001b[38;5;241m-\u001b[39m \u001b[38;5;241m1\u001b[39m \u001b[38;5;241m+\u001b[39m \u001b[38;5;28mself\u001b[39m\u001b[38;5;241m.\u001b[39mn)\n\u001b[1;32m    547\u001b[0m     yslice \u001b[38;5;241m=\u001b[39m \u001b[38;5;28mslice\u001b[39m(\u001b[38;5;28mself\u001b[39m\u001b[38;5;241m.\u001b[39mipntr[\u001b[38;5;241m1\u001b[39m] \u001b[38;5;241m-\u001b[39m \u001b[38;5;241m1\u001b[39m, \u001b[38;5;28mself\u001b[39m\u001b[38;5;241m.\u001b[39mipntr[\u001b[38;5;241m1\u001b[39m] \u001b[38;5;241m-\u001b[39m \u001b[38;5;241m1\u001b[39m \u001b[38;5;241m+\u001b[39m \u001b[38;5;28mself\u001b[39m\u001b[38;5;241m.\u001b[39mn)\n",
      "\u001b[0;31mKeyboardInterrupt\u001b[0m: "
     ]
    }
   ],
   "source": [
    "vals, vecs = topk_eig_large(M=K.cpu(), N=Q.T.cpu(), k=128)"
   ]
  },
  {
   "cell_type": "code",
   "execution_count": null,
   "id": "b4d057f6",
   "metadata": {},
   "outputs": [
    {
     "data": {
      "text/plain": [
       "array([[-0.01110502, -0.01312473, -0.00116576, -0.01218387,  0.00347165],\n",
       "       [ 0.01622734, -0.01282926,  0.01357685,  0.01148765,  0.00019322],\n",
       "       [-0.01559521, -0.03206226,  0.00079083, -0.01504059,  0.02223684],\n",
       "       ...,\n",
       "       [-0.00784967,  0.00330472, -0.00405071,  0.00843777, -0.03740014],\n",
       "       [ 0.00380774, -0.00249471, -0.010211  , -0.0037384 ,  0.00566219],\n",
       "       [ 0.00032165,  0.00207539,  0.00041376,  0.01405454, -0.01689415]],\n",
       "      shape=(4096, 5), dtype=float32)"
      ]
     },
     "execution_count": 15,
     "metadata": {},
     "output_type": "execute_result"
    }
   ],
   "source": [
    "import torch\n",
    "from transformer_lens import HookedTransformer\n",
    "from typing import Literal\n",
    "\n",
    "def get_head_input_vectors(\n",
    "    model: HookedTransformer,\n",
    "    prompt: str,\n",
    "    layer: int,\n",
    "    head: int,\n",
    "    token_index: int,\n",
    "    device: str = None,\n",
    ") -> dict:\n",
    "    \"\"\"\n",
    "    Returns the query, key, and value vectors for a specific head and token.\n",
    "\n",
    "    Args:\n",
    "        model: HookedTransformer\n",
    "        prompt: str\n",
    "        layer: int (0-indexed layer number)\n",
    "        head: int (0-indexed head number)\n",
    "        token_index: int (token position in prompt, after tokenization)\n",
    "        device: torch.device or str\n",
    "\n",
    "    Returns:\n",
    "        dict with keys 'q', 'k', 'v': each is a tensor of shape [head_dim]\n",
    "    \"\"\"\n",
    "    if device is None:\n",
    "        device = next(model.parameters()).device\n",
    "\n",
    "    model.eval()\n",
    "    tokens = model.to_tokens(prompt).to(device)  # shape [1, seq]\n",
    "    _, cache = model.run_with_cache(tokens)\n",
    "\n",
    "    # head input vectors before attention matmul\n",
    "    qkv_input = cache[\"qkv_input\", layer][0]         # shape [seq, model_dim]\n",
    "    W_Q = model.W_Q[layer][head]                     # shape [head_dim, model_dim]\n",
    "    W_K = model.W_K[layer][head]\n",
    "    W_V = model.W_V[layer][head]\n",
    "\n",
    "    x = qkv_input[token_index]                       # shape [model_dim]\n",
    "    q = W_Q @ x                                      # [head_dim]\n",
    "    k = W_K @ x\n",
    "    v = W_V @ x\n",
    "\n",
    "    return {\"q\": q.detach().cpu(), \"k\": k.detach().cpu(), \"v\": v.detach().cpu()}\n"
   ]
  },
  {
   "cell_type": "code",
   "execution_count": 16,
   "id": "2b535b25",
   "metadata": {},
   "outputs": [
    {
     "data": {
      "text/plain": [
       "array([-2.2622857, -1.7879766, -1.5893271, -1.4797965, -1.4460055],\n",
       "      dtype=float32)"
      ]
     },
     "execution_count": 16,
     "metadata": {},
     "output_type": "execute_result"
    }
   ],
   "source": [
    "vals"
   ]
  },
  {
   "cell_type": "code",
   "execution_count": null,
   "id": "b2eea7d5",
   "metadata": {},
   "outputs": [],
   "source": [
    "# extract the key query matrices for a specific attention head\n",
    "\n",
    "def extract_key_query_matrices(model, layer_idx, head_idx, prompt):\n",
    "    Q = model.blocks[layer_idx].attn.W_Q[head_idx]\n",
    "    K = model.blocks[layer_idx].attn.W_K[head_idx]"
   ]
  }
 ],
 "metadata": {
  "kernelspec": {
   "display_name": "venv",
   "language": "python",
   "name": "python3"
  },
  "language_info": {
   "codemirror_mode": {
    "name": "ipython",
    "version": 3
   },
   "file_extension": ".py",
   "mimetype": "text/x-python",
   "name": "python",
   "nbconvert_exporter": "python",
   "pygments_lexer": "ipython3",
   "version": "3.10.12"
  }
 },
 "nbformat": 4,
 "nbformat_minor": 5
}
