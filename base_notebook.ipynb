{
 "cells": [
  {
   "cell_type": "markdown",
   "metadata": {},
   "source": [
    "Includes basic tools for doing experiments \n",
    "Copy this to quickly start running a new experiment"
   ]
  },
  {
   "cell_type": "code",
   "execution_count": null,
   "metadata": {},
   "outputs": [],
   "source": [
    "import torch\n",
    "import math\n",
    "from nnsight import CONFIG\n",
    "from nnsight import LanguageModel\n",
    "import nnsight\n",
    "import numpy as np\n",
    "import matplotlib.pyplot as plt\n",
    "import os\n",
    "from dotenv import load_dotenv\n",
    "\n",
    "load_dotenv()"
   ]
  },
  {
   "cell_type": "code",
   "execution_count": 1,
   "metadata": {},
   "outputs": [
    {
     "name": "stderr",
     "output_type": "stream",
     "text": [
      "c:\\Users\\durrc\\OneDrive\\Desktop\\mech_interp_work\\venv\\Lib\\site-packages\\tqdm\\auto.py:21: TqdmWarning: IProgress not found. Please update jupyter and ipywidgets. See https://ipywidgets.readthedocs.io/en/stable/user_install.html\n",
      "  from .autonotebook import tqdm as notebook_tqdm\n"
     ]
    }
   ],
   "source": [
    "# importing from my own code \n",
    "from activation_transplanting import *"
   ]
  },
  {
   "cell_type": "code",
   "execution_count": null,
   "metadata": {},
   "outputs": [],
   "source": [
    "# read the api_key\n",
    "CONFIG.set_default_api_key(os.environ.get('NDIF_KEY'))\n",
    "\n",
    "# read the hf token\n",
    "os.environ['HF_TOKEN'] = os.environ.get('HF_TOKEN')"
   ]
  },
  {
   "cell_type": "code",
   "execution_count": null,
   "metadata": {},
   "outputs": [],
   "source": [
    "NDIF_models = [\n",
    "    \"meta-llama/Meta-Llama-3.1-405B-Instruct\",\n",
    "    \"meta-llama/Meta-Llama-3.1-8B\",\n",
    "    \"meta-llama/Meta-Llama-3.1-70B\",\n",
    "    \"deepseek-ai/DeepSeek-R1-Distill-Llama-70B\",\n",
    "    \"deepseek-ai/DeepSeek-R1-Distill-Llama-8B\"\n",
    "] \n",
    "\n",
    "# inexaustive list\n",
    "non_NDIF_models = [\n",
    "    \"meta-llama/Meta-Llama-3.1-8B\",\n",
    "]"
   ]
  },
  {
   "cell_type": "code",
   "execution_count": null,
   "metadata": {},
   "outputs": [],
   "source": [
    "# choose a model \n",
    "llama_model_string = \"meta-llama/Meta-Llama-3.1-8B\" \n",
    "# remote = use NDIF\n",
    "remote = True \n",
    "\n",
    "if remote and (llama_model_string not in NDIF_models):\n",
    "    remote = False \n",
    "    print(\"Model not available on NDIF\")"
   ]
  },
  {
   "cell_type": "code",
   "execution_count": null,
   "metadata": {},
   "outputs": [],
   "source": [
    "# load a model\n",
    "llama = LanguageModel(llama_model_string)"
   ]
  },
  {
   "cell_type": "code",
   "execution_count": null,
   "metadata": {},
   "outputs": [],
   "source": [
    "# Example prompts\n",
    "\n",
    "# instruct examples\n",
    "prompt_example_1 = \"<|begin▁of▁sentence|>\\n\" \\\n",
    "         \"<|start_header_id|>user<|end_header_id|>\\n\\n\" \\\n",
    "         \"Hello, how are you? <|eot_id|>\\n\" \\\n",
    "         \"<|start_header_id|>assistant<|end_header_id|>\\n\"\n",
    "\n",
    "prompt_example_2 = \"<|start_header_id|>system<|end_header_id|>\\n\\n<|eot_id|>\\n\" \\\n",
    "                \"<|start_header_id|>user<|end_header_id|>\\n\\n\" \\\n",
    "                \"Answer the following in one word: What is the tallest mountain in the world?<|eot_id|>\\n\" \\\n",
    "                \"<|start_header_id|>assistant<|end_header_id|>\"\n",
    "\n",
    "# Base model examples \n",
    "prompt_example_3 = \"\\nUser: What's the capital of France?\\n\\nAssistant:\"\n",
    "\n",
    "# Reasoning examples \n",
    "prompt_example_4 = \"<｜User｜>Robert has three apples, and then gets one more. How many apples does he have? Respond in a single word.<｜Assistant｜>\""
   ]
  },
  {
   "cell_type": "code",
   "execution_count": null,
   "metadata": {},
   "outputs": [],
   "source": [
    "# commented out for now\n",
    "tk = LLamaExamineToolkit(\n",
    "    llama_model=llama, \n",
    "    remote=True, # use NDIF\n",
    ")"
   ]
  }
 ],
 "metadata": {
  "kernelspec": {
   "display_name": "venv",
   "language": "python",
   "name": "python3"
  },
  "language_info": {
   "codemirror_mode": {
    "name": "ipython",
    "version": 3
   },
   "file_extension": ".py",
   "mimetype": "text/x-python",
   "name": "python",
   "nbconvert_exporter": "python",
   "pygments_lexer": "ipython3",
   "version": "3.12.5"
  }
 },
 "nbformat": 4,
 "nbformat_minor": 2
}
