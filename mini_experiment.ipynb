{
 "cells": [
  {
   "cell_type": "markdown",
   "metadata": {},
   "source": [
    "Let's see if we can replicate some results of 'extracting paragraphs'"
   ]
  },
  {
   "cell_type": "code",
   "execution_count": 1,
   "metadata": {},
   "outputs": [
    {
     "name": "stderr",
     "output_type": "stream",
     "text": [
      "c:\\Users\\Laura and Steve\\Desktop\\mech_interp\\mech_interp_research\\myenv\\Lib\\site-packages\\tqdm\\auto.py:21: TqdmWarning: IProgress not found. Please update jupyter and ipywidgets. See https://ipywidgets.readthedocs.io/en/stable/user_install.html\n",
      "  from .autonotebook import tqdm as notebook_tqdm\n"
     ]
    },
    {
     "data": {
      "text/plain": [
       "True"
      ]
     },
     "execution_count": 1,
     "metadata": {},
     "output_type": "execute_result"
    }
   ],
   "source": [
    "import torch \n",
    "import math\n",
    "from nnsight import CONFIG\n",
    "import nnsight\n",
    "import numpy as np \n",
    "import matplotlib.pyplot as plt\n",
    "import os\n",
    "from dotenv import load_dotenv\n",
    "load_dotenv()"
   ]
  },
  {
   "cell_type": "code",
   "execution_count": 2,
   "metadata": {},
   "outputs": [],
   "source": [
    "from activation_transplanting import *"
   ]
  },
  {
   "cell_type": "markdown",
   "metadata": {},
   "source": [
    "Note: place ndif key and hf token in a file called .env \n",
    "\n",
    "eg:\n",
    "```\n",
    "HF_TOKEN=\"Token here\"\n",
    "NDIF_KEY=\"Key here\"\n",
    "```"
   ]
  },
  {
   "cell_type": "code",
   "execution_count": 3,
   "metadata": {},
   "outputs": [],
   "source": [
    "# read the api_key\n",
    "CONFIG.set_default_api_key(os.environ.get('NDIF_KEY'))"
   ]
  },
  {
   "cell_type": "code",
   "execution_count": 4,
   "metadata": {},
   "outputs": [],
   "source": [
    "import os\n",
    "\n",
    "# read the api_key\n",
    "\n",
    "# Llama 3.1 8b is a gated model, so you need to apply for access on HuggingFace and include your token.\n",
    "os.environ['HF_TOKEN'] = os.environ.get('HF_TOKEN')"
   ]
  },
  {
   "cell_type": "markdown",
   "metadata": {},
   "source": [
    "## The Experiment \n",
    "\n",
    "Confirm the basic findings of `Extracting Paragraphs` \n",
    "\n",
    "Finding 1:\n",
    "> Attention is focused around the `\\n\\n` tokens, after an instruction\n",
    "\n",
    "Finding 2:\n",
    "> By replacing the activations at newlines with another set of activations, we can make the model reproduce the original prompt "
   ]
  },
  {
   "cell_type": "code",
   "execution_count": 5,
   "metadata": {},
   "outputs": [],
   "source": [
    "from nnsight import LanguageModel\n",
    "# We'll never actually load the parameters locally, so no need to specify a device_map.\n",
    "llama = LanguageModel(\"meta-llama/Meta-Llama-3.1-8B\")\n",
    "# All we need to specify using NDIF vs executing locally is remote=True."
   ]
  },
  {
   "cell_type": "markdown",
   "metadata": {},
   "source": [
    "TODO: get temperature in the config "
   ]
  },
  {
   "cell_type": "code",
   "execution_count": 6,
   "metadata": {},
   "outputs": [],
   "source": [
    "num_examples = 1 # how many examples to use in the context?\n",
    "\n",
    "with open(\"context.txt\", 'r') as file:\n",
    "    context = file.read()\n",
    "\n",
    "context = \"\\n--\\n\".join(context.split(\"\\n--\\n\")[:num_examples])+\"\\n--\\n\""
   ]
  },
  {
   "cell_type": "code",
   "execution_count": 37,
   "metadata": {},
   "outputs": [
    {
     "name": "stdout",
     "output_type": "stream",
     "text": [
      "What are the key elements of photosynthesis?\n",
      "\n",
      "Photosynthesis is the process where plants convert sunlight, water, and carbon dioxide into glucose and oxygen. It occurs in chloroplasts containing chlorophyll, which captures light energy. The process includes light-dependent reactions producing ATP and NADPH, and the Calvin cycle that uses these to fix carbon dioxide into sugar.\n",
      "--\n",
      "\n"
     ]
    }
   ],
   "source": [
    "print(context)"
   ]
  },
  {
   "cell_type": "code",
   "execution_count": 23,
   "metadata": {},
   "outputs": [],
   "source": [
    "s1 = \"What was the cause of the Punic War?\\n\\n\"\n",
    "s2 = \"What were the causes of the Civil War?\\n\\n\"\n"
   ]
  },
  {
   "cell_type": "code",
   "execution_count": 24,
   "metadata": {},
   "outputs": [
    {
     "name": "stdout",
     "output_type": "stream",
     "text": [
      "What are the key elements of photosynthesis?\n",
      "\n",
      "Photosynthesis is the process where plants convert sunlight, water, and carbon dioxide into glucose and oxygen. It occurs in chloroplasts containing chlorophyll, which captures light energy. The process includes light-dependent reactions producing ATP and NADPH, and the Calvin cycle that uses these to fix carbon dioxide into sugar.\n",
      "--\n",
      "What was the cause of the Punic War?\n",
      "\n",
      "\n"
     ]
    }
   ],
   "source": [
    "print(context+s1)"
   ]
  },
  {
   "cell_type": "code",
   "execution_count": 28,
   "metadata": {},
   "outputs": [],
   "source": [
    "tk = LLamaExamineToolkit(\n",
    "    llama_model=llama, \n",
    "    remote=True, # use NDIF\n",
    "    num_prev=1 # Take one additional token backwards in time -- not only the ?/n/n token, but one extra\n",
    ")"
   ]
  },
  {
   "cell_type": "code",
   "execution_count": 36,
   "metadata": {},
   "outputs": [
    {
     "name": "stdout",
     "output_type": "stream",
     "text": [
      "extracting newline activations\n"
     ]
    },
    {
     "name": "stderr",
     "output_type": "stream",
     "text": [
      "2025-03-03 22:30:42,743 ab8c1ff5-c597-4e20-8972-47c75206fdd7 - RECEIVED: Your job has been received and is waiting approval.\n",
      "2025-03-03 22:30:43,066 ab8c1ff5-c597-4e20-8972-47c75206fdd7 - APPROVED: Your job was approved and is waiting to be run.\n",
      "2025-03-03 22:30:43,441 ab8c1ff5-c597-4e20-8972-47c75206fdd7 - RUNNING: Your job has started running.\n",
      "2025-03-03 22:30:45,013 ab8c1ff5-c597-4e20-8972-47c75206fdd7 - COMPLETED: Your job has been completed.\n",
      "Downloading result: 100%|██████████| 11.0M/11.0M [00:01<00:00, 10.5MB/s]\n"
     ]
    },
    {
     "name": "stdout",
     "output_type": "stream",
     "text": [
      "source_token =  82 ('?\\n\\n', 1980)\n",
      "target_token =  82 ?\n",
      "\n",
      "\n",
      "source_token =  81 (' War', 5111)\n",
      "target_token =  81  War\n",
      "source_token =  82 ('?\\n\\n', 1980)\n",
      "target_token =  82 ?\n",
      "\n",
      "\n",
      "source_token =  81 (' War', 5111)\n",
      "target_token =  81  War\n",
      "source_token =  82 ('?\\n\\n', 1980)\n",
      "target_token =  82 ?\n",
      "\n",
      "\n",
      "source_token =  81 (' War', 5111)\n",
      "target_token =  81  War\n",
      "source_token =  82 ('?\\n\\n', 1980)\n",
      "target_token =  82 ?\n",
      "\n",
      "\n",
      "source_token =  81 (' War', 5111)\n",
      "target_token =  81  War\n",
      "source_token =  82 ('?\\n\\n', 1980)\n",
      "target_token =  82 ?\n",
      "\n",
      "\n",
      "source_token =  81 (' War', 5111)\n",
      "target_token =  81  War\n",
      "source_token =  82 ('?\\n\\n', 1980)\n",
      "target_token =  82 ?\n",
      "\n",
      "\n",
      "source_token =  81 (' War', 5111)\n",
      "target_token =  81  War\n",
      "source_token =  82 ('?\\n\\n', 1980)\n",
      "target_token =  82 ?\n",
      "\n",
      "\n",
      "source_token =  81 (' War', 5111)\n",
      "target_token =  81  War\n",
      "source_token =  82 ('?\\n\\n', 1980)\n",
      "target_token =  82 ?\n",
      "\n",
      "\n",
      "source_token =  81 (' War', 5111)\n",
      "target_token =  81  War\n",
      "source_token =  82 ('?\\n\\n', 1980)\n",
      "target_token =  82 ?\n",
      "\n",
      "\n",
      "source_token =  81 (' War', 5111)\n",
      "target_token =  81  War\n",
      "source_token =  82 ('?\\n\\n', 1980)\n",
      "target_token =  82 ?\n",
      "\n",
      "\n",
      "source_token =  81 (' War', 5111)\n",
      "target_token =  81  War\n",
      "source_token =  82 ('?\\n\\n', 1980)\n",
      "target_token =  82 ?\n",
      "\n",
      "\n",
      "source_token =  81 (' War', 5111)\n",
      "target_token =  81  War\n",
      "source_token =  82 ('?\\n\\n', 1980)\n",
      "target_token =  82 ?\n",
      "\n",
      "\n",
      "source_token =  81 (' War', 5111)\n",
      "target_token =  81  War\n",
      "source_token =  82 ('?\\n\\n', 1980)\n",
      "target_token =  82 ?\n",
      "\n",
      "\n",
      "source_token =  81 (' War', 5111)\n",
      "target_token =  81  War\n",
      "source_token =  82 ('?\\n\\n', 1980)\n",
      "target_token =  82 ?\n",
      "\n",
      "\n",
      "source_token =  81 (' War', 5111)\n",
      "target_token =  81  War\n",
      "source_token =  82 ('?\\n\\n', 1980)\n",
      "target_token =  82 ?\n",
      "\n",
      "\n",
      "source_token =  81 (' War', 5111)\n",
      "target_token =  81  War\n",
      "source_token =  82 ('?\\n\\n', 1980)\n",
      "target_token =  82 ?\n",
      "\n",
      "\n",
      "source_token =  81 (' War', 5111)\n",
      "target_token =  81  War\n",
      "source_token =  82 ('?\\n\\n', 1980)\n",
      "target_token =  82 ?\n",
      "\n",
      "\n",
      "source_token =  81 (' War', 5111)\n",
      "target_token =  81  War\n",
      "source_token =  82 ('?\\n\\n', 1980)\n",
      "target_token =  82 ?\n",
      "\n",
      "\n",
      "source_token =  81 (' War', 5111)\n",
      "target_token =  81  War\n",
      "source_token =  82 ('?\\n\\n', 1980)\n",
      "target_token =  82 ?\n",
      "\n",
      "\n",
      "source_token =  81 (' War', 5111)\n",
      "target_token =  81  War\n",
      "source_token =  82 ('?\\n\\n', 1980)\n",
      "target_token =  82 ?\n",
      "\n",
      "\n",
      "source_token =  81 (' War', 5111)\n",
      "target_token =  81  War\n",
      "source_token =  82 ('?\\n\\n', 1980)\n",
      "target_token =  82 ?\n",
      "\n",
      "\n",
      "source_token =  81 (' War', 5111)\n",
      "target_token =  81  War\n",
      "source_token =  82 ('?\\n\\n', 1980)\n",
      "target_token =  82 ?\n",
      "\n",
      "\n",
      "source_token =  81 (' War', 5111)\n",
      "target_token =  81  War\n",
      "source_token =  82 ('?\\n\\n', 1980)\n",
      "target_token =  82 ?\n",
      "\n",
      "\n",
      "source_token =  81 (' War', 5111)\n",
      "target_token =  81  War\n",
      "source_token =  82 ('?\\n\\n', 1980)\n",
      "target_token =  82 ?\n",
      "\n",
      "\n",
      "source_token =  81 (' War', 5111)\n",
      "target_token =  81  War\n",
      "source_token =  82 ('?\\n\\n', 1980)\n",
      "target_token =  82 ?\n",
      "\n",
      "\n",
      "source_token =  81 (' War', 5111)\n",
      "target_token =  81  War\n",
      "source_token =  82 ('?\\n\\n', 1980)\n",
      "target_token =  82 ?\n",
      "\n",
      "\n",
      "source_token =  81 (' War', 5111)\n",
      "target_token =  81  War\n",
      "source_token =  82 ('?\\n\\n', 1980)\n",
      "target_token =  82 ?\n",
      "\n",
      "\n",
      "source_token =  81 (' War', 5111)\n",
      "target_token =  81  War\n",
      "source_token =  82 ('?\\n\\n', 1980)\n",
      "target_token =  82 ?\n",
      "\n",
      "\n",
      "source_token =  81 (' War', 5111)\n",
      "target_token =  81  War\n",
      "source_token =  82 ('?\\n\\n', 1980)\n",
      "target_token =  82 ?\n",
      "\n",
      "\n",
      "source_token =  81 (' War', 5111)\n",
      "target_token =  81  War\n",
      "source_token =  82 ('?\\n\\n', 1980)\n",
      "target_token =  82 ?\n",
      "\n",
      "\n",
      "source_token =  81 (' War', 5111)\n",
      "target_token =  81  War\n",
      "source_token =  82 ('?\\n\\n', 1980)\n",
      "target_token =  82 ?\n",
      "\n",
      "\n",
      "source_token =  81 (' War', 5111)\n",
      "target_token =  81  War\n",
      "source_token =  82 ('?\\n\\n', 1980)\n",
      "target_token =  82 ?\n",
      "\n",
      "\n",
      "source_token =  81 (' War', 5111)\n",
      "target_token =  81  War\n"
     ]
    },
    {
     "name": "stderr",
     "output_type": "stream",
     "text": [
      "2025-03-03 22:30:47,984 21907806-f7b5-4fb8-86d7-9257ecbe9d90 - RECEIVED: Your job has been received and is waiting approval.\n",
      "2025-03-03 22:30:48,818 21907806-f7b5-4fb8-86d7-9257ecbe9d90 - APPROVED: Your job was approved and is waiting to be run.\n",
      "2025-03-03 22:30:49,443 21907806-f7b5-4fb8-86d7-9257ecbe9d90 - RUNNING: Your job has started running.\n",
      "2025-03-03 22:30:51,624 21907806-f7b5-4fb8-86d7-9257ecbe9d90 - COMPLETED: Your job has been completed.\n",
      "Downloading result: 100%|██████████| 2.27k/2.27k [00:00<?, ?B/s]\n"
     ]
    }
   ],
   "source": [
    "outputs = tk.transplant_newline_activities(\n",
    "    source_strings=[context+s1], # add context to the specific question we'll use as the source\n",
    "    target_strings=[context+s2], # add contect to the question we'll use as the target\n",
    "    num_new_tokens=50, # how many new tokens to generate\n",
    "    index=-1, # swap at the last instance of ?/n/n\n",
    "    transplant_strings = (\"key\", \"value\") # swap \"key\" and \"value\" tensors\n",
    ")"
   ]
  },
  {
   "cell_type": "code",
   "execution_count": 35,
   "metadata": {},
   "outputs": [
    {
     "name": "stdout",
     "output_type": "stream",
     "text": [
      "<|begin_of_text|>What are the key elements of photosynthesis?\n",
      "\n",
      "Photosynthesis is the process where plants convert sunlight, water, and carbon dioxide into glucose and oxygen. It occurs in chloroplasts containing chlorophyll, which captures light energy. The process includes light-dependent reactions producing ATP and NADPH, and the Calvin cycle that uses these to fix carbon dioxide into sugar.\n",
      "--\n",
      "What were the causes of the Civil War?\n",
      "\n",
      "The cause of the First Punic War was the struggle for control of the Western Mediterranean. Carthage was the dominant power in the region, but Rome began to expand its territory. The two powers fought for control of Sicily, and Carth\n",
      "--------------\n"
     ]
    }
   ],
   "source": [
    "for out in outputs:\n",
    "    print(out)\n",
    "    print(\"--------------\")"
   ]
  },
  {
   "cell_type": "code",
   "execution_count": null,
   "metadata": {},
   "outputs": [],
   "source": []
  }
 ],
 "metadata": {
  "kernelspec": {
   "display_name": "venv",
   "language": "python",
   "name": "python3"
  },
  "language_info": {
   "codemirror_mode": {
    "name": "ipython",
    "version": 3
   },
   "file_extension": ".py",
   "mimetype": "text/x-python",
   "name": "python",
   "nbconvert_exporter": "python",
   "pygments_lexer": "ipython3",
   "version": "3.11.7"
  }
 },
 "nbformat": 4,
 "nbformat_minor": 2
}
