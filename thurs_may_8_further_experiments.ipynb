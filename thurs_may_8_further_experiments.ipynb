{
 "cells": [
  {
   "cell_type": "markdown",
   "id": "e78abb6d",
   "metadata": {},
   "source": [
    "## A: default mode\n",
    "\n",
    "1) project residual stream values along the LDA direction \n",
    " - does this imply a certain mode is the default? and one is the special 'mode'\n",
    "\n",
    "## B: minimal steering \n",
    "\n",
    "1) starting from layer1, can we \n",
    "     - inject the steering vector, \n",
    "     - then evaluate future layers\n",
    "     - then inject the correction needed to steer the model in the next direction \n",
    "\n",
    " - overall, find the minimal injection needed to steer the output\n",
    "\n",
    "2) try out a scaled version of injection \n",
    " - determine layerwise scales needed to make the overall effect of adding in the scales * steering to the resid_pre is equal to the overall steering vector \n",
    "\n",
    " - could go layer by layer\n",
    "\n",
    "## C: generations from steering \n",
    "\n",
    "1) inject the steering vector, or a version which accomplishes the steering, and look at completions \n",
    "\n",
    "2) patch in the heads and look to see whether their effect is the same / similar as the steering vector injection\n",
    "\n",
    "\n",
    "## D: augmented head search \n",
    "\n",
    "1) expand the initial search for vectors attending to think and stop think, to include those tokens immediately following them \n",
    " - does this give us more heads?\n",
    "\n",
    "\n"
   ]
  }
 ],
 "metadata": {
  "language_info": {
   "name": "python"
  }
 },
 "nbformat": 4,
 "nbformat_minor": 5
}
