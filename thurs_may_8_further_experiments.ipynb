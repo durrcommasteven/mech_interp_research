{
 "cells": [
  {
   "cell_type": "markdown",
   "id": "e78abb6d",
   "metadata": {},
   "source": [
    "## A: default mode\n",
    "\n",
    "1) project residual stream values along the LDA direction \n",
    " - does this imply a certain mode is the default? and one is the special 'mode'\n",
    "\n",
    "## B: minimal steering \n",
    "\n",
    "1) starting from layer1, can we \n",
    "     - inject the steering vector, \n",
    "     - then evaluate future layers\n",
    "     - then inject the correction needed to steer the model in the next direction \n",
    "\n",
    " - overall, find the minimal injection needed to steer the output\n",
    "\n",
    "2) try out a scaled version of injection \n",
    " - determine layerwise scales needed to make the overall effect of adding in the scales * steering to the resid_pre is equal to the overall steering vector \n",
    "\n",
    " - could go layer by layer\n",
    "\n",
    "## C: generations from steering \n",
    "\n",
    "1) inject the steering vector, or a version which accomplishes the steering, and look at completions \n",
    "\n",
    "2) patch in the heads and look to see whether their effect is the same / similar as the steering vector injection\n",
    "\n",
    "\n",
    "## D: augmented head search \n",
    "\n",
    "1) expand the initial search for vectors attending to think and stop think, to include those tokens immediately following them \n",
    " - does this give us more heads?\n",
    "\n",
    "\n"
   ]
  },
  {
   "cell_type": "code",
   "execution_count": 1,
   "id": "8758f4fb",
   "metadata": {},
   "outputs": [
    {
     "name": "stderr",
     "output_type": "stream",
     "text": [
      "/root/mech_interp_research/venv/lib/python3.10/site-packages/tqdm/auto.py:21: TqdmWarning: IProgress not found. Please update jupyter and ipywidgets. See https://ipywidgets.readthedocs.io/en/stable/user_install.html\n",
      "  from .autonotebook import tqdm as notebook_tqdm\n"
     ]
    }
   ],
   "source": [
    "from activation_patching_toolkit import *\n",
    "from typing import Optional, List, Dict"
   ]
  },
  {
   "cell_type": "code",
   "execution_count": 2,
   "id": "164fa516",
   "metadata": {},
   "outputs": [
    {
     "name": "stderr",
     "output_type": "stream",
     "text": [
      "Loading checkpoint shards: 100%|██████████| 2/2 [00:00<00:00,  3.84it/s]\n"
     ]
    },
    {
     "name": "stdout",
     "output_type": "stream",
     "text": [
      "Loaded pretrained model meta-llama/Llama-3.1-8B into HookedTransformer\n"
     ]
    }
   ],
   "source": [
    "torch.set_grad_enabled(False)\n",
    "\n",
    "device = utils.get_device()\n",
    "\n",
    "reference_model_path = 'meta-llama/Llama-3.1-8B'\n",
    "baseline_model_path = \"deepseek-ai/DeepSeek-R1-Distill-Llama-8B\"\n",
    "\n",
    "baseline_model_hf = AutoModelForCausalLM.from_pretrained(baseline_model_path, torch_dtype=torch.bfloat16)\n",
    "baseline_model_tokenizer = AutoTokenizer.from_pretrained(baseline_model_path)\n",
    "\n",
    "model = HookedTransformer.from_pretrained_no_processing(\n",
    "    reference_model_path,\n",
    "    hf_model=baseline_model_hf,\n",
    "    tokenizer=baseline_model_tokenizer,\n",
    "    device=device,\n",
    "    move_to_device=True,\n",
    ")"
   ]
  },
  {
   "cell_type": "code",
   "execution_count": 7,
   "id": "3e022578",
   "metadata": {},
   "outputs": [],
   "source": [
    "weight_vectors = np.load('layer_analyses/combined_delta_vectors.npy')\n",
    "steering_vectors = [None]+[-torch.tensor(w, device='cuda:0') for w in weight_vectors]"
   ]
  },
  {
   "cell_type": "markdown",
   "id": "32394502",
   "metadata": {},
   "source": [
    "# B : minimal steering "
   ]
  },
  {
   "cell_type": "code",
   "execution_count": 33,
   "id": "089bcc15",
   "metadata": {},
   "outputs": [],
   "source": [
    "\n",
    "def compute_iterative_deltas_final_token_hooks(\n",
    "    model: HookedTransformer,\n",
    "    steering_vectors: List[Optional[torch.Tensor]],\n",
    "    think_prompt: str\n",
    ") -> List[Optional[torch.Tensor]]:\n",
    "    \"\"\"\n",
    "    Returns `delta` of the same length as `steering_vectors` so that if you\n",
    "    inject delta[L] at blocks.L.hook_resid_pre (only on the final token),\n",
    "    you exactly recover steering_vectors[L] there.\n",
    "\n",
    "    - Never uses run_with_cache (only run_with_hooks).\n",
    "    - Hooks by the string \"blocks.{L}.hook_resid_pre\".\n",
    "    - Captures/injects only the final token (i.e. [:, -1, :]).\n",
    "    \"\"\"\n",
    "    device = next(model.parameters()).device\n",
    "    max_layer = len(steering_vectors) - 1\n",
    "\n",
    "    # 1) BASELINE: capture unperturbed final-token resid_pre for each L\n",
    "    base_resid_pres: dict = {}\n",
    "    base_forward_hooks: List[Tuple[str, Callable]] = []\n",
    "\n",
    "    def capture_factory(L: int) -> Callable:\n",
    "        def capture(resid_pre, **kwargs):\n",
    "            # grab [batch=0, seq=-1, :]\n",
    "            base_resid_pres[L] = resid_pre[0, -1].detach().clone()\n",
    "            return resid_pre\n",
    "        return capture\n",
    "\n",
    "    # collect baseline capture hooks\n",
    "    for L, sv in enumerate(steering_vectors):\n",
    "        if sv is None:\n",
    "            continue\n",
    "        hook_name = f\"blocks.{L}.hook_resid_pre\"\n",
    "        base_forward_hooks.append((hook_name, capture_factory(L)))\n",
    "\n",
    "    # run baseline\n",
    "    _ = model.run_with_hooks(\n",
    "        think_prompt,\n",
    "        fwd_hooks=base_forward_hooks\n",
    "    )\n",
    "\n",
    "    # move captures to base_resid\n",
    "    base_resid = {L: v.to(device) for L, v in base_resid_pres.items()}\n",
    "\n",
    "    # 2) ITERATIVELY compute delta[1..max_layer]\n",
    "    delta: List[Optional[torch.Tensor]] = [None] * (max_layer + 1)\n",
    "\n",
    "    def inject_factory(vec: torch.Tensor) -> Callable:\n",
    "        def inject(resid_pre, **kwargs):\n",
    "            out = resid_pre.clone()\n",
    "            out[:, -1, :] += vec\n",
    "            return out\n",
    "        return inject\n",
    "\n",
    "    for L in range(1, max_layer + 1):\n",
    "        sv = steering_vectors[L]\n",
    "        if sv is None:\n",
    "            delta[L] = None\n",
    "            continue\n",
    "\n",
    "        hooks: List[Tuple[str, Callable]] = []\n",
    "\n",
    "        # a) re-inject all previous deltas at their layers\n",
    "        for j in range(1, L):\n",
    "            dj = delta[j]\n",
    "            if dj is None:\n",
    "                continue\n",
    "            v = dj.to(device)\n",
    "            hook_name = f\"blocks.{j}.hook_resid_pre\"\n",
    "            hooks.append((hook_name, inject_factory(v)))\n",
    "\n",
    "        # b) capture at layer L\n",
    "        curr_cap: dict = {}\n",
    "        def capture(resid_pre, **kwargs):\n",
    "            curr_cap['v'] = resid_pre[0, -1].detach().clone()\n",
    "            return resid_pre\n",
    "        hooks.append((f\"blocks.{L}.hook_resid_pre\", capture))\n",
    "\n",
    "        # c) rerun think prompt with injections + capture\n",
    "        _ = model.run_with_hooks(\n",
    "            think_prompt,\n",
    "            fwd_hooks=hooks\n",
    "        )\n",
    "\n",
    "        # d) measure shift and compute remainder\n",
    "        curr = curr_cap['v'].to(device)\n",
    "        measured = curr - base_resid[L]\n",
    "        delta[L] = (sv.to(device) - measured).detach().clone()\n",
    "\n",
    "    return delta\n"
   ]
  },
  {
   "cell_type": "code",
   "execution_count": 34,
   "id": "937c57dd",
   "metadata": {},
   "outputs": [
    {
     "data": {
      "text/plain": [
       "'<｜begin▁of▁sentence｜><｜User｜>What is the fifth prime?<｜Assistant｜><think>\\n'"
      ]
     },
     "execution_count": 34,
     "metadata": {},
     "output_type": "execute_result"
    }
   ],
   "source": [
    "rc = ReasoningAnsweringComparator(\n",
    "    model,\n",
    "    \"What is the fifth prime?\",\n",
    "    immediately_answer=True,\n",
    ")\n",
    "\n",
    "rc.think_prefix"
   ]
  },
  {
   "cell_type": "code",
   "execution_count": 35,
   "id": "7bc6c363",
   "metadata": {},
   "outputs": [],
   "source": [
    "deltas = compute_iterative_deltas_final_token_hooks(\n",
    "    model,\n",
    "    steering_vectors,\n",
    "    think_prompt=rc.think_prefix,\n",
    ")"
   ]
  },
  {
   "cell_type": "code",
   "execution_count": 39,
   "id": "1a907bb1",
   "metadata": {},
   "outputs": [
    {
     "data": {
      "image/png": "[encoded data removed]",
      "text/plain": [
       "<Figure size 640x480 with 1 Axes>"
      ]
     },
     "metadata": {},
     "output_type": "display_data"
    }
   ],
   "source": [
    "\n",
    "# plot the magnitude of the deltas\n",
    "plt.plot([torch.norm(d).item() for d in deltas[1:]])\n",
    "plt.plot([torch.norm(d).item() for d in steering_vectors[1:]])\n",
    "plt.show()"
   ]
  },
  {
   "cell_type": "code",
   "execution_count": 40,
   "id": "e9a38895",
   "metadata": {},
   "outputs": [
    {
     "data": {
      "image/png": "[encoded data removed]",
      "text/plain": [
       "<Figure size 640x480 with 1 Axes>"
      ]
     },
     "metadata": {},
     "output_type": "display_data"
    }
   ],
   "source": [
    "# compute the cosine similarity of the deltas\n",
    "cos_sim = []\n",
    "for i in range(1, len(deltas)):\n",
    "    if deltas[i] is not None and steering_vectors[i] is not None:\n",
    "        cos_sim.append(torch.nn.functional.cosine_similarity(deltas[i], steering_vectors[i], dim=0).item())\n",
    "    else:\n",
    "        cos_sim.append(None)\n",
    "plt.plot(cos_sim)\n",
    "plt.show()"
   ]
  },
  {
   "cell_type": "code",
   "execution_count": null,
   "id": "e3af4f1c",
   "metadata": {},
   "outputs": [],
   "source": []
  }
 ],
 "metadata": {
  "kernelspec": {
   "display_name": "venv",
   "language": "python",
   "name": "python3"
  },
  "language_info": {
   "codemirror_mode": {
    "name": "ipython",
    "version": 3
   },
   "file_extension": ".py",
   "mimetype": "text/x-python",
   "name": "python",
   "nbconvert_exporter": "python",
   "pygments_lexer": "ipython3",
   "version": "3.10.12"
  }
 },
 "nbformat": 4,
 "nbformat_minor": 5
}
