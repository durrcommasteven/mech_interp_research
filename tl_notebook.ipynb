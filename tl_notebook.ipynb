{
 "cells": [
  {
   "cell_type": "code",
   "execution_count": 4,
   "id": "909dc0ff",
   "metadata": {},
   "outputs": [],
   "source": [
    "from transformer_lens import HookedTransformer\n",
    "import transformer_lens\n",
    "from transformers import AutoModelForCausalLM, AutoTokenizer\n",
    "import torch\n",
    "\n"
   ]
  },
  {
   "cell_type": "code",
   "execution_count": 5,
   "id": "2db10b49",
   "metadata": {},
   "outputs": [],
   "source": [
    "devices = transformer_lens.utilities.devices.AvailableDeviceMemory"
   ]
  },
  {
   "cell_type": "code",
   "execution_count": 6,
   "id": "85d62450",
   "metadata": {},
   "outputs": [
    {
     "data": {
      "text/plain": [
       "list[tuple[int, int]]"
      ]
     },
     "execution_count": 6,
     "metadata": {},
     "output_type": "execute_result"
    }
   ],
   "source": [
    "devices"
   ]
  },
  {
   "cell_type": "code",
   "execution_count": null,
   "id": "ff99e78a",
   "metadata": {},
   "outputs": [],
   "source": [
    "reference_model_path = 'meta-llama/Llama-3.1-8B'\n",
    "baseline_model_path = 'meta-llama/Llama-3.1-8B'"
   ]
  },
  {
   "cell_type": "code",
   "execution_count": null,
   "id": "ed2cfa30",
   "metadata": {},
   "outputs": [],
   "source": [
    "baseline_model_device='mps'"
   ]
  },
  {
   "cell_type": "code",
   "execution_count": null,
   "id": "c9d9aeea",
   "metadata": {},
   "outputs": [],
   "source": [
    "baseline_model_hf = AutoModelForCausalLM.from_pretrained(baseline_model_path, torch_dtype=torch.bfloat16)\n",
    "baseline_model_tokenizer = AutoTokenizer.from_pretrained(baseline_model_path)\n",
    "\n",
    "baseline_model = HookedTransformer.from_pretrained_no_processing(\n",
    "    reference_model_path,\n",
    "    hf_model=baseline_model_hf,\n",
    "    tokenizer=baseline_model_tokenizer,\n",
    "    device=baseline_model_device,\n",
    "    move_to_device=True,\n",
    ")\n",
    "\n"
   ]
  },
  {
   "cell_type": "code",
   "execution_count": null,
   "id": "ecccf01e",
   "metadata": {},
   "outputs": [],
   "source": []
  }
 ],
 "metadata": {
  "kernelspec": {
   "display_name": "venv",
   "language": "python",
   "name": "python3"
  },
  "language_info": {
   "codemirror_mode": {
    "name": "ipython",
    "version": 3
   },
   "file_extension": ".py",
   "mimetype": "text/x-python",
   "name": "python",
   "nbconvert_exporter": "python",
   "pygments_lexer": "ipython3",
   "version": "3.12.5"
  }
 },
 "nbformat": 4,
 "nbformat_minor": 5
}
