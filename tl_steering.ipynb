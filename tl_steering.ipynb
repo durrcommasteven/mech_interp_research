{
 "cells": [
  {
   "cell_type": "markdown",
   "id": "dc1c9737",
   "metadata": {},
   "source": [
    "# trying to steer using transformerlens \n",
    "\n",
    "april 26 "
   ]
  },
  {
   "cell_type": "code",
   "execution_count": 1,
   "id": "1ebc9ce6",
   "metadata": {},
   "outputs": [
    {
     "name": "stderr",
     "output_type": "stream",
     "text": [
      "/root/mech_interp_research/venv/lib/python3.10/site-packages/tqdm/auto.py:21: TqdmWarning: IProgress not found. Please update jupyter and ipywidgets. See https://ipywidgets.readthedocs.io/en/stable/user_install.html\n",
      "  from .autonotebook import tqdm as notebook_tqdm\n"
     ]
    }
   ],
   "source": [
    "from transformer_lens import HookedTransformer\n",
    "import transformer_lens\n",
    "from transformers import AutoModelForCausalLM, AutoTokenizer\n",
    "import torch\n",
    "import transformer_lens.utils as utils\n",
    "import hashlib\n",
    "import yaml \n",
    "import hashlib\n",
    "import pickle\n",
    "import numpy as np\n",
    "import matplotlib.pyplot as plt "
   ]
  },
  {
   "cell_type": "code",
   "execution_count": 2,
   "id": "7e0f24bc",
   "metadata": {},
   "outputs": [
    {
     "data": {
      "text/plain": [
       "<torch.autograd.grad_mode.set_grad_enabled at 0x766f003e9990>"
      ]
     },
     "execution_count": 2,
     "metadata": {},
     "output_type": "execute_result"
    }
   ],
   "source": [
    "torch.set_grad_enabled(False)"
   ]
  },
  {
   "cell_type": "code",
   "execution_count": 3,
   "id": "25761ccc",
   "metadata": {},
   "outputs": [
    {
     "name": "stderr",
     "output_type": "stream",
     "text": [
      "Downloading shards: 100%|██████████| 2/2 [00:36<00:00, 18.31s/it]\n",
      "Loading checkpoint shards: 100%|██████████| 2/2 [00:00<00:00,  4.64it/s]\n"
     ]
    },
    {
     "name": "stdout",
     "output_type": "stream",
     "text": [
      "Loaded pretrained model meta-llama/Llama-3.1-8B into HookedTransformer\n"
     ]
    }
   ],
   "source": [
    "device = utils.get_device()\n",
    "\n",
    "reference_model_path = 'meta-llama/Llama-3.1-8B'\n",
    "baseline_model_path = \"deepseek-ai/DeepSeek-R1-Distill-Llama-8B\"\n",
    "\n",
    "baseline_model_hf = AutoModelForCausalLM.from_pretrained(baseline_model_path, torch_dtype=torch.bfloat16)\n",
    "baseline_model_tokenizer = AutoTokenizer.from_pretrained(baseline_model_path)\n",
    "\n",
    "model = HookedTransformer.from_pretrained_no_processing(\n",
    "    reference_model_path,\n",
    "    hf_model=baseline_model_hf,\n",
    "    tokenizer=baseline_model_tokenizer,\n",
    "    device=device,\n",
    "    move_to_device=True,\n",
    ")\n"
   ]
  },
  {
   "cell_type": "code",
   "execution_count": 4,
   "id": "d0f0780d",
   "metadata": {},
   "outputs": [],
   "source": [
    "weight_vectors = np.load('layer_analyses/combined_delta_vectors.npy')"
   ]
  },
  {
   "cell_type": "code",
   "execution_count": 5,
   "id": "36f8ae5b",
   "metadata": {},
   "outputs": [],
   "source": [
    "def produce_layer_resid_pre_steering_hook(steering_vector, scale=1.0):\n",
    "    def resid_pre_hook(\n",
    "        value,\n",
    "        hook\n",
    "    ):\n",
    "        value[:, -1, :] += steering_vector.to(value)*scale\n",
    "        return value\n",
    "\n",
    "    return resid_pre_hook"
   ]
  },
  {
   "cell_type": "code",
   "execution_count": 6,
   "id": "9ef711eb",
   "metadata": {},
   "outputs": [],
   "source": [
    "def set_steering_vectors(\n",
    "    model,\n",
    "    target_layer_indices,\n",
    "    weight_vectors,\n",
    "    scale=1.0,\n",
    "):\n",
    "    \"\"\" \n",
    "    Adds steering vectors to the model at the specified layer indices.\n",
    "    add only to resid_pre \n",
    "\n",
    "    Args:\n",
    "        model (HookedTransformer): The model to modify.\n",
    "        target_layer_indices (list of int): The layer indices to add steering vectors to.\n",
    "        weight_vectors (np.ndarray): The steering vectors to add.\n",
    "        scale (float): The scaling factor for the steering vectors.\n",
    "    \"\"\"\n",
    "    model.reset_hooks()\n",
    "    for block_idx, block in enumerate(model.blocks):\n",
    "        if block_idx in target_layer_indices:\n",
    "            # Get the steering vector for this block\n",
    "            steering_vector = weight_vectors[block_idx]\n",
    "            # Create the hook function\n",
    "            resid_pre_hook = produce_layer_resid_pre_steering_hook(steering_vector, scale)\n",
    "            # Add the hook to the model\n",
    "            model.add_hook(\n",
    "                utils.get_act_name('resid_pre', block_idx),\n",
    "                resid_pre_hook\n",
    "            )\n"
   ]
  },
  {
   "cell_type": "code",
   "execution_count": 44,
   "id": "052b0345",
   "metadata": {},
   "outputs": [],
   "source": [
    "steering_vectors = [None]+[-torch.tensor(w[None, :], device='cuda:0') for w in weight_vectors]"
   ]
  },
  {
   "cell_type": "code",
   "execution_count": 45,
   "id": "431d784d",
   "metadata": {},
   "outputs": [
    {
     "data": {
      "text/plain": [
       "torch.Size([1, 4096])"
      ]
     },
     "execution_count": 45,
     "metadata": {},
     "output_type": "execute_result"
    }
   ],
   "source": [
    "steering_vectors[3].shape"
   ]
  },
  {
   "cell_type": "code",
   "execution_count": 78,
   "id": "cb858159",
   "metadata": {},
   "outputs": [],
   "source": [
    "set_steering_vectors(\n",
    "    model,\n",
    "    target_layer_indices=range(10, 25),\n",
    "    weight_vectors=steering_vectors,\n",
    "    scale=1,\n",
    ")"
   ]
  },
  {
   "cell_type": "code",
   "execution_count": 79,
   "id": "d0b27000",
   "metadata": {},
   "outputs": [],
   "source": [
    "chat = [\n",
    "  {\"role\": \"user\", \"content\": \"What's the fifth prime?\"},\n",
    "]\n",
    "\n",
    "prompt = model.tokenizer.apply_chat_template(chat, add_generation_prompt=True, tokenize=False)\n"
   ]
  },
  {
   "cell_type": "code",
   "execution_count": 80,
   "id": "89218133",
   "metadata": {},
   "outputs": [
    {
     "name": "stderr",
     "output_type": "stream",
     "text": [
      "  0%|          | 0/256 [00:00<?, ?it/s]"
     ]
    },
    {
     "name": "stderr",
     "output_type": "stream",
     "text": [
      "  5%|▍         | 12/256 [00:00<00:19, 12.32it/s]\n"
     ]
    }
   ],
   "source": [
    "test_output = model.generate(\n",
    "    prompt,\n",
    "    max_new_tokens=256,\n",
    "    do_sample=False,\n",
    ")"
   ]
  },
  {
   "cell_type": "code",
   "execution_count": 81,
   "id": "08f3d19b",
   "metadata": {},
   "outputs": [
    {
     "name": "stdout",
     "output_type": "stream",
     "text": [
      "<｜User｜>What's the fifth prime?<｜Assistant｜><think>\n",
      "**Solution:**\n",
      "The fifth prime number is 7.\n"
     ]
    }
   ],
   "source": [
    "print(test_output)"
   ]
  },
  {
   "cell_type": "markdown",
   "id": "c6bd7a6d",
   "metadata": {},
   "source": [
    "# Experiments \n",
    "\n",
    "**initial model**\n",
    "there exist heads which toggle thinking early on \n",
    "\n",
    "these signals \n",
    "\n",
    "\n",
    "\n",
    "1) which layer is most important? \n",
    "\n",
    "2) try steering with the OV circuit of head (0, 22) applied to <think> "
   ]
  },
  {
   "cell_type": "code",
   "execution_count": 13,
   "id": "904bf7b4",
   "metadata": {},
   "outputs": [
    {
     "data": {
      "text/plain": [
       "torch.Size([32, 32, 128, 4096])"
      ]
     },
     "execution_count": 13,
     "metadata": {},
     "output_type": "execute_result"
    }
   ],
   "source": [
    "model.W_O.shape"
   ]
  },
  {
   "cell_type": "code",
   "execution_count": 14,
   "id": "3129dc45",
   "metadata": {},
   "outputs": [],
   "source": [
    "target_o = model.W_O[0, 22]"
   ]
  },
  {
   "cell_type": "code",
   "execution_count": 22,
   "id": "54ddd8f2",
   "metadata": {},
   "outputs": [],
   "source": [
    "think_steering_vector = model.W_E[128013]@model.W_V[0, 22]@model.W_O[0, 22]\n",
    "\n",
    "think_steering_vector /= torch.linalg.norm(think_steering_vector)\n",
    "\n",
    "stopthink_steering_vector = model.W_E[128014]@model.W_V[0, 22]@model.W_O[0, 22]\n",
    "\n",
    "stopthink_steering_vector /= torch.linalg.norm(stopthink_steering_vector)"
   ]
  },
  {
   "cell_type": "code",
   "execution_count": 23,
   "id": "c1a72399",
   "metadata": {},
   "outputs": [],
   "source": [
    "think_steering_vectors = [None]*32 \n",
    "\n",
    "think_steering_vectors = [think_steering_vector.reshape((1, 4096)) for _ in range(32)]"
   ]
  },
  {
   "cell_type": "code",
   "execution_count": 24,
   "id": "e4613e69",
   "metadata": {},
   "outputs": [],
   "source": [
    "think_steering_vectors = [None]*32 \n",
    "\n",
    "stopthink_steering_vectors = [stopthink_steering_vector.reshape((1, 4096)) for _ in range(32)]"
   ]
  },
  {
   "cell_type": "code",
   "execution_count": 28,
   "id": "c0995a08",
   "metadata": {},
   "outputs": [],
   "source": [
    "set_steering_vectors(\n",
    "    model,\n",
    "    target_layer_indices=[0],\n",
    "    weight_vectors=stopthink_steering_vectors,\n",
    "    scale=.5,\n",
    ")"
   ]
  },
  {
   "cell_type": "code",
   "execution_count": 29,
   "id": "1833d0a3",
   "metadata": {},
   "outputs": [
    {
     "name": "stderr",
     "output_type": "stream",
     "text": [
      "  0%|          | 0/256 [00:00<?, ?it/s]"
     ]
    },
    {
     "name": "stderr",
     "output_type": "stream",
     "text": [
      "100%|██████████| 256/256 [00:18<00:00, 13.70it/s]\n"
     ]
    }
   ],
   "source": [
    "test_output = model.generate(\n",
    "    prompt,\n",
    "    max_new_tokens=256,\n",
    "    do_sample=False,\n",
    ")"
   ]
  },
  {
   "cell_type": "code",
   "execution_count": 30,
   "id": "6c4a4ce4",
   "metadata": {},
   "outputs": [
    {
     "name": "stdout",
     "output_type": "stream",
     "text": [
      "<｜User｜>What's the fifth prime?<｜Assistant｜><think>\n",
      "To determine the fifth prime number, I'll start by listing the prime numbers in order.\n",
      "\n",
      "First, I'll identify the first prime, which is 2. Next, I'll move to the second prime, which is 3. Then, I'll list the third prime, 5, and the fourth prime, 7. After that, the fifth prime is 11.\n",
      "</think>\n",
      "\n",
      "To find the fifth prime, I'll begin listing the prime numbers in sequence. Starting fromThe first prime is 2, followed the Second prime is 3, the Third prime is 5, and the Fourth prime is 7. Continuing this sequence, the Fifth prime is 11.\n",
      "</think>\n",
      "\n",
      "</think>\n",
      "\n",
      "</think>\n",
      "\n",
      "</think>\n",
      "\n",
      "</think>\n",
      "\n",
      "To determine the fifth prime number, I'll follow the sequence of prime numbers. Starting from the first prime, which is 2, I'll move to the second prime, 3. Then, I'll identify the third prime, 5, and finally reach the fifth prime, 11. This systematic approach ensures that I systematically list out the prime numbers in their natural order.\n",
      "\n",
      "By following this method, I can confidently identify the fifth prime as 11.\n",
      "</think>\n",
      "\n",
      "</think>\n",
      "\n",
      "</think>\n",
      "\n",
      "To determine the fifth prime number, I'll\n"
     ]
    }
   ],
   "source": [
    "print(test_output)"
   ]
  },
  {
   "cell_type": "markdown",
   "id": "2baf3f7b",
   "metadata": {},
   "source": [
    "Q: can we use one of the lda directions to steer think vs nonthink  \n",
    "\n",
    "lda is think vs nonthink in later layers \n",
    "\n",
    "and less significant components control turning this on early on \n",
    "---------\n",
    "how does stop think get triggered?"
   ]
  },
  {
   "cell_type": "markdown",
   "id": "35110f71",
   "metadata": {},
   "source": [
    "difference in mean vector vs lda direction \n",
    "\n"
   ]
  },
  {
   "cell_type": "markdown",
   "id": "8c185f48",
   "metadata": {},
   "source": [
    "# ideas \n",
    "\n",
    " - when we injected ov(0, 22).think at layer 0, the network thought, tried to end thinking, and did so repeatedly  \n",
    "\n",
    "what if we look at the logit of <\\think> after adding in different ov.think vectors from different heads \n",
    "\n",
    "which one contributed something that's most like \"think\"\n",
    "\n",
    "- by what mechanism does the model try to activate <\\think>? \n",
    "\n",
    "once its finished thinking, it tries to stop \n",
    "\n",
    "what do the "
   ]
  },
  {
   "cell_type": "code",
   "execution_count": 33,
   "id": "6b3480e7",
   "metadata": {},
   "outputs": [],
   "source": [
    "normed_think = model.W_E[128013] / torch.linalg.norm(model.W_E[128013])\n",
    "normed_stopthink = model.W_E[128014] / torch.linalg.norm(model.W_E[128014])"
   ]
  },
  {
   "cell_type": "code",
   "execution_count": 38,
   "id": "8d374763",
   "metadata": {},
   "outputs": [
    {
     "data": {
      "text/plain": [
       "tensor(0.1200, device='cuda:0')"
      ]
     },
     "execution_count": 38,
     "metadata": {},
     "output_type": "execute_result"
    }
   ],
   "source": [
    "normed_stopthink@normed_think"
   ]
  },
  {
   "cell_type": "code",
   "execution_count": null,
   "id": "22e07591",
   "metadata": {},
   "outputs": [],
   "source": []
  },
  {
   "cell_type": "markdown",
   "id": "e156a374",
   "metadata": {},
   "source": [
    "What happens if i look at how aligned or antialigned think and stop-think vectors are at each layer "
   ]
  },
  {
   "cell_type": "code",
   "execution_count": 41,
   "id": "8e3e2b16",
   "metadata": {},
   "outputs": [],
   "source": [
    "def compute_thinking_alignment(layer_idx, head_idx):\n",
    "    \"\"\"\n",
    "    Computes the alignment between the thinking and stopthinking vectors for a given layer and head.\n",
    "\n",
    "    Args:\n",
    "        layer_idx (int): The index of the layer.\n",
    "        head_idx (int): The index of the head.\n",
    "\n",
    "    Returns:\n",
    "        float: The alignment score.\n",
    "    \"\"\"\n",
    "    # Get the steering vectors for the specified layer and head\n",
    "    think_vector = model.W_E[128013] @ model.W_V[layer_idx, head_idx] @ model.W_O[layer_idx, head_idx]\n",
    "    stopthink_vector = model.W_E[128014] @ model.W_V[layer_idx, head_idx] @ model.W_O[layer_idx, head_idx]\n",
    "\n",
    "    # Normalize the vectors\n",
    "    normed_think = think_vector / torch.linalg.norm(think_vector)\n",
    "    normed_stopthink = stopthink_vector / torch.linalg.norm(stopthink_vector)\n",
    "\n",
    "    # Compute the alignment score\n",
    "    alignment_score = normed_stopthink @ normed_think\n",
    "\n",
    "    return alignment_score.item()"
   ]
  },
  {
   "cell_type": "code",
   "execution_count": 42,
   "id": "24e377b2",
   "metadata": {},
   "outputs": [],
   "source": [
    "\"\"\" \n",
    "plot the alignment scores for each layer and head \n",
    "use a heatmap to visualize the scores\n",
    "\"\"\"\n",
    "def plot_alignment_scores():\n",
    "    \"\"\"\n",
    "    Plots the alignment scores for each layer and head as a heatmap.\n",
    "\n",
    "    Returns:\n",
    "        None\n",
    "    \"\"\"\n",
    "    # Initialize an array to store the alignment scores\n",
    "    alignment_scores = np.zeros((model.cfg.n_layers, model.cfg.n_heads))\n",
    "\n",
    "    # Compute the alignment scores for each layer and head\n",
    "    for layer_idx in range(model.cfg.n_layers):\n",
    "        for head_idx in range(model.cfg.n_heads):\n",
    "            alignment_scores[layer_idx, head_idx] = compute_thinking_alignment(layer_idx, head_idx)\n",
    "\n",
    "    # Plot the alignment scores as a heatmap\n",
    "    plt.imshow(alignment_scores, cmap='hot', interpolation='nearest')\n",
    "    plt.colorbar(label='Alignment Score')\n",
    "    plt.xlabel('Head Index')\n",
    "    plt.ylabel('Layer Index')\n",
    "    plt.title('Thinking vs Stopthinking Alignment Scores')\n",
    "    plt.show()\n",
    "    "
   ]
  },
  {
   "cell_type": "code",
   "execution_count": 43,
   "id": "962f111a",
   "metadata": {},
   "outputs": [
    {
     "data": {
      "image/png": "[encoded data removed]",
      "text/plain": [
       "<Figure size 640x480 with 2 Axes>"
      ]
     },
     "metadata": {},
     "output_type": "display_data"
    }
   ],
   "source": [
    "plot_alignment_scores()"
   ]
  },
  {
   "cell_type": "code",
   "execution_count": 37,
   "id": "74a58838",
   "metadata": {},
   "outputs": [
    {
     "data": {
      "text/plain": [
       "tensor([ 8.0637e-05,  8.1090e-06, -2.1838e-04,  ...,  1.6519e-04,\n",
       "        -8.9628e-05, -1.8325e-04], device='cuda:0')"
      ]
     },
     "execution_count": 37,
     "metadata": {},
     "output_type": "execute_result"
    }
   ],
   "source": [
    "model.W_E[128013]@model.W_V[0, 22]@model.W_O[0, 22]"
   ]
  },
  {
   "cell_type": "code",
   "execution_count": 36,
   "id": "8b49393c",
   "metadata": {},
   "outputs": [
    {
     "data": {
      "text/plain": [
       "np.float64(0.015625)"
      ]
     },
     "execution_count": 36,
     "metadata": {},
     "output_type": "execute_result"
    }
   ],
   "source": [
    "1/np.sqrt(4096)"
   ]
  },
  {
   "cell_type": "code",
   "execution_count": 20,
   "id": "ff2a7846",
   "metadata": {},
   "outputs": [
    {
     "ename": "SyntaxError",
     "evalue": "invalid syntax (3778656465.py, line 1)",
     "output_type": "error",
     "traceback": [
      "\u001b[0;36m  Cell \u001b[0;32mIn[20], line 1\u001b[0;36m\u001b[0m\n\u001b[0;31m    <\\think>\u001b[0m\n\u001b[0m    ^\u001b[0m\n\u001b[0;31mSyntaxError\u001b[0m\u001b[0;31m:\u001b[0m invalid syntax\n"
     ]
    }
   ],
   "source": [
    "<\\think>"
   ]
  },
  {
   "cell_type": "code",
   "execution_count": null,
   "id": "9aee7824",
   "metadata": {},
   "outputs": [],
   "source": [
    "model.W_U"
   ]
  },
  {
   "cell_type": "code",
   "execution_count": 21,
   "id": "368e9112",
   "metadata": {},
   "outputs": [
    {
     "data": {
      "text/plain": [
       "tensor([[128000, 128014]], device='cuda:0')"
      ]
     },
     "execution_count": 21,
     "metadata": {},
     "output_type": "execute_result"
    }
   ],
   "source": [
    "model.to_tokens(\"</think>\")"
   ]
  },
  {
   "cell_type": "code",
   "execution_count": null,
   "id": "ceb06922",
   "metadata": {},
   "outputs": [],
   "source": []
  }
 ],
 "metadata": {
  "kernelspec": {
   "display_name": "venv",
   "language": "python",
   "name": "python3"
  },
  "language_info": {
   "codemirror_mode": {
    "name": "ipython",
    "version": 3
   },
   "file_extension": ".py",
   "mimetype": "text/x-python",
   "name": "python",
   "nbconvert_exporter": "python",
   "pygments_lexer": "ipython3",
   "version": "3.10.12"
  }
 },
 "nbformat": 4,
 "nbformat_minor": 5
}
